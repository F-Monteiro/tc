{
 "cells": [
  {
   "cell_type": "code",
   "execution_count": 1,
   "metadata": {},
   "outputs": [],
   "source": [
    "import numpy as np\n",
    "import pandas as pd "
   ]
  },
  {
   "cell_type": "code",
   "execution_count": 2,
   "metadata": {},
   "outputs": [],
   "source": [
    "positions_AP = np.arange(0,1601)"
   ]
  },
  {
   "cell_type": "code",
   "execution_count": 3,
   "metadata": {},
   "outputs": [
    {
     "data": {
      "text/html": [
       "<div>\n",
       "<style scoped>\n",
       "    .dataframe tbody tr th:only-of-type {\n",
       "        vertical-align: middle;\n",
       "    }\n",
       "\n",
       "    .dataframe tbody tr th {\n",
       "        vertical-align: top;\n",
       "    }\n",
       "\n",
       "    .dataframe thead th {\n",
       "        text-align: right;\n",
       "    }\n",
       "</style>\n",
       "<table border=\"1\" class=\"dataframe\">\n",
       "  <thead>\n",
       "    <tr style=\"text-align: right;\">\n",
       "      <th></th>\n",
       "      <th>positionX</th>\n",
       "      <th>positionY</th>\n",
       "      <th>demandPerCustomer</th>\n",
       "    </tr>\n",
       "  </thead>\n",
       "  <tbody>\n",
       "    <tr>\n",
       "      <th>0</th>\n",
       "      <td>36.5240</td>\n",
       "      <td>141.410</td>\n",
       "      <td>1.457700</td>\n",
       "    </tr>\n",
       "    <tr>\n",
       "      <th>1</th>\n",
       "      <td>68.0550</td>\n",
       "      <td>53.432</td>\n",
       "      <td>0.186430</td>\n",
       "    </tr>\n",
       "    <tr>\n",
       "      <th>2</th>\n",
       "      <td>1.2006</td>\n",
       "      <td>65.695</td>\n",
       "      <td>1.120000</td>\n",
       "    </tr>\n",
       "    <tr>\n",
       "      <th>3</th>\n",
       "      <td>171.2900</td>\n",
       "      <td>68.620</td>\n",
       "      <td>0.965040</td>\n",
       "    </tr>\n",
       "    <tr>\n",
       "      <th>4</th>\n",
       "      <td>90.2130</td>\n",
       "      <td>113.730</td>\n",
       "      <td>0.899390</td>\n",
       "    </tr>\n",
       "    <tr>\n",
       "      <th>...</th>\n",
       "      <td>...</td>\n",
       "      <td>...</td>\n",
       "      <td>...</td>\n",
       "    </tr>\n",
       "    <tr>\n",
       "      <th>490</th>\n",
       "      <td>77.2640</td>\n",
       "      <td>237.520</td>\n",
       "      <td>0.807950</td>\n",
       "    </tr>\n",
       "    <tr>\n",
       "      <th>491</th>\n",
       "      <td>215.5300</td>\n",
       "      <td>353.930</td>\n",
       "      <td>0.394960</td>\n",
       "    </tr>\n",
       "    <tr>\n",
       "      <th>492</th>\n",
       "      <td>54.6070</td>\n",
       "      <td>344.720</td>\n",
       "      <td>0.125010</td>\n",
       "    </tr>\n",
       "    <tr>\n",
       "      <th>493</th>\n",
       "      <td>132.5100</td>\n",
       "      <td>290.580</td>\n",
       "      <td>0.946190</td>\n",
       "    </tr>\n",
       "    <tr>\n",
       "      <th>494</th>\n",
       "      <td>164.7100</td>\n",
       "      <td>318.800</td>\n",
       "      <td>0.056529</td>\n",
       "    </tr>\n",
       "  </tbody>\n",
       "</table>\n",
       "<p>495 rows × 3 columns</p>\n",
       "</div>"
      ],
      "text/plain": [
       "     positionX  positionY  demandPerCustomer\n",
       "0      36.5240    141.410           1.457700\n",
       "1      68.0550     53.432           0.186430\n",
       "2       1.2006     65.695           1.120000\n",
       "3     171.2900     68.620           0.965040\n",
       "4      90.2130    113.730           0.899390\n",
       "..         ...        ...                ...\n",
       "490    77.2640    237.520           0.807950\n",
       "491   215.5300    353.930           0.394960\n",
       "492    54.6070    344.720           0.125010\n",
       "493   132.5100    290.580           0.946190\n",
       "494   164.7100    318.800           0.056529\n",
       "\n",
       "[495 rows x 3 columns]"
      ]
     },
     "execution_count": 3,
     "metadata": {},
     "output_type": "execute_result"
    }
   ],
   "source": [
    "clients = pd.read_csv('clientes.csv',header=None)\n",
    "clients.columns = ['positionX','positionY','demandPerCustomer']\n",
    "clients"
   ]
  },
  {
   "cell_type": "code",
   "execution_count": 7,
   "metadata": {},
   "outputs": [],
   "source": [
    "#Restrictions \n",
    "minimumAttendedDemand = 0.98 \n",
    "maxAcessPointBandWidth = 54 #in Mbps\n",
    "maxDistanceCustomerToAP = 85 #meters\n",
    "numOfCustomers = 495\n",
    "\n",
    "#Variables\n",
    "x_size = 400 \n",
    "y_size = 400\n"
   ]
  },
  {
   "cell_type": "code",
   "execution_count": 5,
   "metadata": {},
   "outputs": [],
   "source": [
    "import math\n",
    "\n",
    "#function that determines the euclidean distance between two points\n",
    "#point1 and point2 must be a tuple\n",
    "def euclidean_distance(point1, point2):\n",
    "    x1, y1 = point1\n",
    "    x2, y2 = point2\n",
    "    distance = math.sqrt((x2 - x1)**2 + (y2 - y1)**2)\n",
    "    return distance\n",
    "\n",
    "#function of signal intensity\n",
    "def connection_intensity(point1, point2):\n",
    "    return 1/(euclidean_distance(point1,point2))"
   ]
  },
  {
   "cell_type": "code",
   "execution_count": 15,
   "metadata": {},
   "outputs": [],
   "source": [
    "#o que deve ser feito para representar os pontos?\n",
    "#deve se criar um array de tuples que vão representar os pontos de acesso \n",
    "positions_AP = []\n",
    "\n",
    "i = (0,0)\n",
    "x = -10\n",
    "y = 0\n",
    "while (i != (400,400)):\n",
    "    if(x < x_size):\n",
    "        x=x+10\n",
    "    else:\n",
    "        x=0\n",
    "        y=y+10\n",
    "    i = (x,y)\n",
    "    positions_AP.append(i)\n",
    "\n",
    "isAcessPoint = [0]*len(positions_AP)\n",
    "#(0,0),(10,0),(20,0)...(370,0),(380,0),(390,0),(400,0)"
   ]
  },
  {
   "cell_type": "code",
   "execution_count": 16,
   "metadata": {},
   "outputs": [],
   "source": [
    "#função de minimização\n",
    "#minimizar a quantidade de pontos de acesso \n",
    "#min f(x) = somatória de 1 a 1682 (a[x1,y1]+b[x2,y2]+c[x3,y3]...)\n",
    "#onde a, b, c são variáveis binárias que dizem se aquele ponto de acesso existe ou não"
   ]
  },
  {
   "cell_type": "code",
   "execution_count": null,
   "metadata": {},
   "outputs": [],
   "source": [
    "#função de minimização\n",
    "#minimizar a distância entre os pontos de acesso e seus respectivos clientes\n",
    "#cliente será cliente de um ponto de acesso se \n",
    "#min g(x) = somatória de 1 a numOfCustomers "
   ]
  }
 ],
 "metadata": {
  "kernelspec": {
   "display_name": "base",
   "language": "python",
   "name": "python3"
  },
  "language_info": {
   "codemirror_mode": {
    "name": "ipython",
    "version": 3
   },
   "file_extension": ".py",
   "mimetype": "text/x-python",
   "name": "python",
   "nbconvert_exporter": "python",
   "pygments_lexer": "ipython3",
   "version": "3.11.4"
  }
 },
 "nbformat": 4,
 "nbformat_minor": 2
}
