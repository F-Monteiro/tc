{
  "cells": [
    {
      "cell_type": "markdown",
      "metadata": {
        "id": "Ti0VSh30grOj"
      },
      "source": [
        "# Teoria da Decisão - Trabalho Computacional\n",
        "\n",
        "**TEMAS: MODELAGEM, OTIMIZAÇÃO MONO E MULTIOBJETIVO, DECISÃO**\n",
        "\n",
        "**Aluno:**\n",
        "\n",
        "**1. Pedro Vieira - Matrícula: 201611725**\n",
        "\n",
        "**2. Frederico Ferri - Matrícula: 2020026931**\n"
      ]
    },
    {
      "cell_type": "markdown",
      "metadata": {
        "id": "2QoatS6Wv8r5"
      },
      "source": [
        "# Especificação do Problema\n",
        "\n",
        "Deseja-se instalar uma rede WLAN do tipo N 2D para atendimento de um centro de convenções com 400 × 400 metros. Para planejamento dessa rede foram estimados 495 pontos de demanda, com suas respectivas posições geográficas e consumos de largura de banda. O arquivo `clientes.csv` contém as informações dos clientes: cada linha representa um cliente; a primeira e a segunda coluna correspondem às coordenadas `x` e `y` do cliente (em metros); a terceira coluna representa o consumo de banda do cliente (em Mbps).\n",
        "\n",
        "## Neste problema tem-se:\n",
        "\n",
        "- **Variáveis de decisão**\n",
        "  - As posições (coordenadas `x` e `y`) dos pontos de acesso (PA) a serem instalados\n",
        "  - O ponto de acesso que será responsável por atender cada cliente;\n",
        "\n",
        "- **Restrições**\n",
        "  - Ao menos 98% dos pontos de demanda devem ter suas demandas integralmente atendidas;\n",
        "  - Cada ponto de acesso a ser instalado tem capacidade de 54 Mbps, que não pode ser excedida;\n",
        "  - Um cliente pode ser atendido por um PA se a distância entre ambos é inferior a 85 metros;\n",
        "  - Assumindo que a exposição de um cliente `c` a um ponto de acesso `p` é dado por:\n",
        "  $$\n",
        "  I_{(c, p)} = \\lambda \\div d_{(c, p)}^\\gamma\n",
        "  $$\n",
        "  Onde:\n",
        "    - `λ` é o coeficiente de exposição (sinal nominal do PA),\n",
        "    - `d(c, p)` é a distância entre `c` e `p`, e\n",
        "    - `γ` é o fator de decaimento.\n",
        "    - A somatória da exposição de cada cliente à rede de PAs instalados deve ser pelo menos 5% do sinal nominal do PA.\n",
        "  - Cada cliente só pode ser atendido por um único PA;\n",
        "  - Devido a restrições orçamentárias, podem ser instalados no máximo 30 PAs;\n",
        "\n",
        "- **Simplificações**\n",
        "  - Os pontos de demanda e seus consumos de banda são estáticos;\n",
        "  - Os efeitos de obstáculos internos no ambiente são desprezados;\n",
        "  - Um ponto de acesso não causa interferência em outros;\n",
        "  - $\\lambda$ e $\\gamma$ são iguais a 1\n"
      ]
    },
    {
      "cell_type": "markdown",
      "metadata": {
        "id": "_P6_MWLqwM-U"
      },
      "source": [
        "# ENTREGA 1: MODELAGEM MATEMÁTICA E OTIMIZAÇÃO MONO-OBJETIVO"
      ]
    },
    {
      "cell_type": "markdown",
      "metadata": {
        "id": "rTXNIsuGh710"
      },
      "source": [
        "## Modelagem"
      ]
    },
    {
      "cell_type": "markdown",
      "metadata": {
        "id": "rJPVluz_ojKR"
      },
      "source": [
        "### Parâmetros:\n",
        "- $ n :$ Número de clientes.\n",
        "- $ m :$ Número de possíveis locais para instalação de PAs.\n",
        "- $ c_j :$ Consumo do cliente $( j )$.\n",
        "- $ q_i :$ Capacidade do PA $( i )$.\n",
        "- $ r_i :$ Raio de cobertura do PA $( i )$.\n",
        "- $ d_{ij} :$ Distância Euclidiana entre o PA $( i )$ e o cliente $( j )$.\n",
        "- $ \\lambda :$ Coeficiente de exposição, relacionado à intensidade do sinal.\n",
        "- $ \\gamma :$ Fator de decaimento, que provavelmente modela a atenuação do sinal com a distância.\n",
        "- $ I_{ij} :$ Exposição do cliente $(j)$ ao PA $(i)$.\n",
        "- $ n_{max} :$ Quantidade máxima de PAs disponiveis.\n"
      ]
    },
    {
      "cell_type": "markdown",
      "metadata": {
        "id": "yL6ky8TO0W8h"
      },
      "source": [
        "### Variáveis\n",
        "\n",
        "$$\n",
        "x_{ij} = \\begin{cases}\n",
        "1, & \\text{se o cliente } j \\text{ é atendido pelo PA } i \\\\\n",
        "0, & \\text{caso contrário}\n",
        "\\end{cases}\n",
        "$$\n",
        "\n",
        "\n",
        "$$\n",
        "y_i = \\begin{cases}\n",
        "1, & \\text{se o PA } i \\text{ está ativo} \\\\\n",
        "0, & \\text{caso contrário}\n",
        "\\end{cases}\n",
        "$$\n"
      ]
    },
    {
      "cell_type": "markdown",
      "metadata": {
        "id": "37sjMyO30bD-"
      },
      "source": [
        "### Funções Objetivo:\n",
        "1. Minimizar a quantidade de PAs ativos ($ f_1 $):\n",
        "   $$\n",
        "   \\text{Minimize} \\sum_{i=1}^{m} y_i\n",
        "   $$\n",
        "\n",
        "2. Minimizar a soma total das distâncias entre os PAs ativos e clientes atendidos $( f_2 )$:\n",
        "   $$\n",
        "   \\text{Minimize} \\sum_{i=1}^{m} \\sum_{j=1}^{n} d_{ij} \\times x_{ij}\n",
        "   $$\n"
      ]
    },
    {
      "cell_type": "markdown",
      "metadata": {
        "id": "dr-51ZcC0hDx"
      },
      "source": [
        "\n",
        "### Restrições:\n",
        "1. Garantir que o percentual mínimo de clientes seja atendido ($ R1 $):\n",
        "   $$\n",
        "   \\sum_{i=1}^{m} y_i \\geq 0,98 \\times n\n",
        "   $$\n",
        "\n",
        "2. Garantir que a capacidade dos PAs ativos não seja violada ($ R2 $):\n",
        "   $$\n",
        "   \\sum_{j=1}^{n} c_j \\times x_{ij} \\leq q_i \\times y_i, \\quad \\forall i\n",
        "   $$\n",
        "\n",
        "3. Garantir que PAs ativos só atendam clientes que estejam dentro do seu raio de cobertura ($ R3 $):\n",
        "   $$\n",
        "   \\sum_{j=1}^{n} d_{ij} \\times x_{ij} \\leq r_i \\times y_i, \\quad \\forall i\n",
        "   $$\n",
        "\n",
        "4. Garantir que exposição acumulada de cada cliente à rede de PAs ativos seja no mínimo 5% do coeficiente de exposição ($ R4 $):\n",
        "   $$\n",
        "   \\sum_{i=1}^{m} I_{ij} \\times y_i \\geq 0.05 \\times \\lambda, \\quad \\forall j\n",
        "   $$\n",
        "\n",
        "5. Garantir que cada cliente \\( j \\) seja atribuído a no máximo um PA ($ R5 $):\n",
        "   $$\n",
        "   \\sum_{i=1}^{m} x_{ij} \\leq 1, \\quad \\forall j\n",
        "   $$\n",
        "\n",
        "6. Garantir que o número máximo de PAs ativos não seja violado ($ R6 $):\n",
        "   $$\n",
        "   \\sum_{i=1}^{m} y_i \\leq n_{\\text{max}}\n",
        "   $$\n",
        "\n",
        "7. Definir o domínio das variáveis de otimização do problema ($R7 $) e ($ R8 $):\n",
        "   $$\n",
        "   x_{ij}, y_i \\in \\{0,1\\}\n",
        "   $$\n",
        "\n",
        "8. Garantir que os pontos de acesso podem ser alocados somente em coordenadas pré-fixadas, definidas sobre um grid com precisão de 5m $(R9)$. Seja $( x_i )$ e $( y_i )$ as coordenadas `x` e `y` do ponto de acesso $(i)$, respectivamente:\n",
        "  $$\n",
        "  x_i \\text{ mod } 5 = 0 \\quad \\text{ e } \\quad y_i \\text{ mod } 5 = 0\n",
        "  $$"
      ]
    },
    {
      "cell_type": "markdown",
      "metadata": {
        "id": "-sPLKxNUP7-S"
      },
      "source": [
        "## Solucionando o problema"
      ]
    },
    {
      "cell_type": "markdown",
      "metadata": {
        "id": "O8PTHf2NQMhl"
      },
      "source": [
        "### Meta-heurística\n",
        "\n",
        "Para resolver o problema em questão, empregamos o algoritmo de penalização. Isso nos permite avaliar as soluções com base em um valor de fitness e penalização, conforme está definido na função de penalização (penalty_method(solution, constraints)) e nas restrições do problema."
      ]
    },
    {
      "cell_type": "markdown",
      "metadata": {
        "id": "jxejSUdlQVcR"
      },
      "source": [
        "### Estrutura da Solução\n",
        "A solução do projeto está definida a partir dos seguintes parâmetros:\n",
        "\n",
        "- x: Variáveis de decisão para atribuição de clientes a PAs\n",
        "\n",
        "- y: Variáveis de decisão para ativação de PAs\n",
        "\n",
        "- client_coordinates: Armazena as posições (x,y) de cada cliente\n",
        "\n",
        "- client_pa_distances: Armazena a distancia entre cliente e PA\n",
        "\n",
        "- client_bandwidth: Armazena a largura de banda necessária de cada cliente\n",
        "\n",
        "- penalty: Armazena a penalidade da solução\n",
        "\n",
        "- fitness: Armazena o ajuste da solução\n",
        "\n",
        "- penalty_fitness: Armazena o ajuste somado a penalidade da solução\n",
        "\n",
        "Tais parâmetros nos dão uma dimensão completa de todos os dados da solução relevantes para avaliação, de modo que esta possa ser submetida tanto às funções objetivo quanto às funções de restrição. \n"
      ]
    },
    {
      "cell_type": "markdown",
      "metadata": {
        "id": "kMqVh8pCQc5r"
      },
      "source": [
        "### Vizinhança\n",
        "\n",
        "Foram utilizadas três estruturas de vizinhança usadas para melhorar a segurança de uma solução ótima para o problema. São elas:\n",
        "\n",
        "- Troca de Clientes entre PAs (Swap): Nesta estrutura de vizinhança, são exploradas diferentes combinações de clientes atribuídos a diferentes pontos de acesso (PAs). Na implementação, na prática, troca-se um cliente de um PA por outro cliente de outro PA e é avaliado se essa troca leva a uma solução melhor.\n",
        "\n",
        "- Adição ou Remoção de PAs: Nesta estrutura de vizinhança, são adicionados ou removidos pontos de acesso (PAs) da solução atual. Na implementação, é avaliado a adição de um novo PA em uma posição estratégica ou a remoção de um PA existente que pode não ser necessário.\n",
        "\n",
        "- Movimento dos PAs (Shift): Nesta estrutura de vizinhança, são exploradas diferentes posições para os pontos de acesso (PAs) existentes. Na implementação, um PA é movido para uma posição adjacente e é avaliada a melhoria ou não da qualidade da solução."
      ]
    },
    {
      "cell_type": "markdown",
      "metadata": {
        "id": "skizHm7LQgsR"
      },
      "source": [
        "### Solução Inicial - qual heuristica construtiva usar para já otimizar o problema?\n",
        "A heurística construtiva do projeto foi desenvolvida seguindo as seguintes etapas:\n",
        "\n",
        "- Seleção das Posições dos PAs: É selecionado aleatoriamente um conjunto inicial de posições para os pontos de acesso (PAs).\n",
        "\n",
        "- Atribuição dos Clientes aos PAs mais Próximos: Cada cliente é atribuído ao PA mais próximo, levando em consideração as posições escolhidas na etapa anterior. Isso foi feito calculando as distâncias euclidianas entre cada cliente e cada PA e escolhendo o PA mais próximo para cada cliente.\n",
        "\n",
        "- Ativação dos PAs: Após atribuir todos os clientes aos PAs mais próximos, é escolhido um número máximo de PAs para garantir que a cobertura da rede seja adequada.\n",
        "\n",
        "Tal heurística construtiva pode ser utilizada para gerar soluções iniciais para ambas as funções."
      ]
    },
    {
      "cell_type": "markdown",
      "metadata": {
        "id": "-57bDSu6QkAT"
      },
      "source": [
        "### Refinamento"
      ]
    },
    {
      "cell_type": "markdown",
      "metadata": {
        "id": "WmenU0Iwy2Jk"
      },
      "source": [
        "## Resultados"
      ]
    },
    {
      "cell_type": "markdown",
      "metadata": {
        "id": "rDkKglIFupH0"
      },
      "source": [
        "### Implementação do Algoritimo de Otimização\n",
        "\n",
        "\n"
      ]
    },
    {
      "cell_type": "code",
      "execution_count": 1,
      "metadata": {
        "id": "U4BpVrBzupin"
      },
      "outputs": [],
      "source": [
        "import numpy as np\n",
        "\n",
        "# Defina os parâmetros do problema\n",
        "num_clients = 495\n",
        "num_pa_locations = 30\n",
        "# Outros parâmetros...\n",
        "\n",
        "def initial_solution(clients_data, solution):\n",
        "\n",
        "    # Extrai as coordenadas dos clientes do array\n",
        "    client_coordinates = clients_data[:, :2]\n",
        "    solution['client_coordinates'] = client_coordinates\n",
        "\n",
        "    # Extrai a largura de banda dos clientes do array\n",
        "    solution['client_bandwidth'] = clients_data[:, 2]\n",
        "\n",
        "    # Gerar coordenadas para os PAs com resolução de 5 metros\n",
        "    pa_coordinates = np.random.randint(0, 80, size=(num_pa_locations, 2)) * 5  # 80 é o tamanho do grid em metros\n",
        "    solution['pa_coordinates'] = pa_coordinates\n",
        "\n",
        "    # Atribuir cada cliente ao PA mais próximo e ativar o PA\n",
        "    for j in range(num_clients):\n",
        "      client_x, client_y = client_coordinates[j]\n",
        "      distances_to_pas = np.sqrt(np.sum((pa_coordinates - [client_x, client_y])**2, axis=1))\n",
        "      closest_pa_index = np.argmin(distances_to_pas)\n",
        "      solution['x'][closest_pa_index, j] = 1\n",
        "\n",
        "    # Ativa aleatoriamente um número máximo de PAs\n",
        "    num_active_pas = np.random.randint(1, num_pa_locations + 1)\n",
        "    active_pas_indices = np.random.choice(num_pa_locations, num_active_pas, replace=False)\n",
        "    solution['y'][active_pas_indices] = 1\n",
        "\n",
        "    # Calcula a distancia entre cada cliente e cada PA ativo\n",
        "    for i in range(num_pa_locations):\n",
        "      pa_x, pa_y = pa_coordinates[i]\n",
        "      for j in range(num_clients):\n",
        "        client_x, client_y = client_coordinates[j]\n",
        "        distance = np.sqrt((pa_x - client_x) ** 2 + (pa_y - client_y) ** 2)\n",
        "        solution['client_pa_distances'][i, j] = distance\n",
        "\n",
        "\n",
        "    return solution\n",
        "\n",
        "# Função para gerar uma solução viável\n",
        "def generate_solution(clients_data, constructor_heuristic=True):\n",
        "    # Inicialize as variáveis de decisão\n",
        "    solution = {\n",
        "        'x': np.zeros((num_pa_locations, num_clients)),  # Variáveis de decisão para atribuição de clientes a PAs\n",
        "        'y': np.zeros(num_pa_locations),  # Variáveis de decisão para ativação de PAs\n",
        "        'client_coordinates': np.zeros((num_clients, num_clients)),  # Armazena as posições (x,y) de cada cliente\n",
        "        'client_pa_distances': np.zeros((num_pa_locations, num_clients)),  # Armazena a distancia entre cliente e PA\n",
        "        'client_bandwidth': np.zeros(num_clients), # Armazena a largura de banda necessária de cada cliente\n",
        "        'penalty': np.zeros(0), # Armazena a penalidade da solução\n",
        "        'fitness': np.zeros(0), # Armazena o ajuste da solução\n",
        "        'penalty_fitness': np.zeros(0) # Armazena o ajuste somado a penalidade da solução\n",
        "    }\n",
        "\n",
        "    if constructor_heuristic:\n",
        "      return initial_solution(clients_data, solution)\n",
        "\n",
        "    # Extrai as coordenadas dos clientes do array\n",
        "    client_coordinates = clients_data[:, :2]\n",
        "    solution['client_coordinates'] = client_coordinates\n",
        "\n",
        "    # Extrai a largura de banda dos clientes do array\n",
        "    solution['client_bandwidth'] = clients_data[:, 2]\n",
        "\n",
        "    # Gerar coordenadas aleatorias para os PAs com resolução de 5 metros\n",
        "    pa_coordinates = np.random.randint(0, 80, size=(num_pa_locations, 2)) * 5  # 80 é o tamanho do grid\n",
        "    solution['pa_coordinates'] = pa_coordinates\n",
        "\n",
        "    # Atribui cada cliente a um PA aleatoriamente e deixa ativo\n",
        "    for j in range(num_clients):\n",
        "        i = np.random.randint(num_pa_locations)  # Seleciona um PA aleatório\n",
        "        solution['x'][i, j] = 1  # Atribui o cliente j ao PA i\n",
        "\n",
        "    # Ativa aleatoriamente um número máximo de PAs\n",
        "    num_active_pas = np.random.randint(1, num_pa_locations + 1)\n",
        "    active_pas_indices = np.random.choice(num_pa_locations, num_active_pas, replace=False)\n",
        "    solution['y'][active_pas_indices] = 1\n",
        "\n",
        "    # Calcula a distancia entre cada cliente e cada PA ativo\n",
        "    for i in range(num_pa_locations):\n",
        "      pa_x, pa_y = pa_coordinates[i]\n",
        "      for j in range(num_clients):\n",
        "        client_x, client_y = client_coordinates[j]\n",
        "        distance = np.sqrt((pa_x - client_x) ** 2 + (pa_y - client_y) ** 2)\n",
        "        solution['client_pa_distances'][i, j] = distance\n",
        "\n",
        "    return solution\n",
        "\n",
        "# Restrições\n",
        "def constraint_min_clients_served(solution):\n",
        "    # Restrição R1: Garantir que o percentual mínimo de clientes seja atendido\n",
        "    return np.sum(solution['y']) >= 0.98 * num_clients\n",
        "\n",
        "def constraint_capacity(solution):\n",
        "    # Restrição R2: Garantir que a capacidade dos PAs ativos não seja violada\n",
        "    for i in range(num_pa_locations):\n",
        "        if np.sum(solution['x'][i] * solution['client_bandwidth']) > pa_capacity:\n",
        "            return False\n",
        "    return True\n",
        "\n",
        "def constraint_coverage(solution):\n",
        "    # Restrição R3: Garantir que PAs ativos só atendam clientes que estejam dentro do seu raio de cobertura\n",
        "    for i in range(num_pa_locations):\n",
        "        if np.sum(solution['x'][i] * solution['client_pa_distances']) > pa_coverage:\n",
        "            return False\n",
        "    return True\n",
        "\n",
        "def constraint_exposure(solution):\n",
        "    # Restrição R4: Garantir que exposição acumulada de cada cliente à rede de PAs ativos seja no mínimo 5% do coeficiente de exposição\n",
        "    for j in range(num_clients):\n",
        "        if np.sum(pa_exposure * solution['y'] / solution['client_pa_distances'][:, j]) < 0.05 * exposure_coefficient:\n",
        "            return False\n",
        "    return True\n",
        "\n",
        "def constraint_unique_assignment(solution):\n",
        "    # Restrição R5: Garantir que cada cliente seja atribuído a no máximo um PA\n",
        "    return np.all(np.sum(solution['x'], axis=0) <= 1)\n",
        "\n",
        "def constraint_max_pas(solution):\n",
        "    # Restrição R6: Garantir que o número máximo de PAs ativos não seja violado\n",
        "    return np.sum(solution['y']) <= num_pa_locations\n",
        "\n",
        "def constraint_binary_variables(solution):\n",
        "    # Restrições R7 e R8: Definir o domínio das variáveis de otimização do problema\n",
        "    return np.all(np.logical_or(solution['x'] == 0, solution['x'] == 1)) and np.all(np.logical_or(solution['y'] == 0, solution['y'] == 1))\n",
        "\n",
        "def constraint_pa_coordinates(solution):\n",
        "    # Restrição R9: Garantir que as coordenadas dos pontos de acesso sejam múltiplos de 5\n",
        "    pa_coordinates = solution['pa_coordinates']\n",
        "    return np.all(pa_coordinates % 5 == 0)\n",
        "\n",
        "# Função objetivo 1: Minimizar a quantidade de PAs ativos\n",
        "def objective_function_1(solution, constraints):\n",
        "\n",
        "    # Calculo da função objetivo\n",
        "    solution['fitness'] = np.sum(solution['y'])\n",
        "\n",
        "    # Calculo das penalidades\n",
        "    solution['penalty'] = penalty_method(solution, constraints)\n",
        "\n",
        "    # Aplicação das penalidades\n",
        "    solution['penalty_fitness'] = solution['penalty'] + solution['fitness']\n",
        "\n",
        "    return solution\n",
        "\n",
        "# Função objetivo 2: Minimizar a soma total das distâncias entre os PAs ativos e clientes atendidos\n",
        "def objective_function_2(solution, constraints):\n",
        "\n",
        "    # Calculo da função objetivo\n",
        "    solution['fitness'] = np.sum(np.multiply(solution['client_pa_distances'], solution['x']))\n",
        "\n",
        "    # Calculo das penalidades\n",
        "    solution['penalty'] = penalty_method(solution, constraints)\n",
        "\n",
        "    # Aplicação das penalidades\n",
        "    solution['penalty_fitness'] = solution['penalty'] + solution['fitness']\n",
        "\n",
        "    return solution\n",
        "\n",
        "# Carrega os dados dos clientes do arquivo CSV\n",
        "def get_clients():\n",
        "  clients = np.genfromtxt('clientes.csv', delimiter=',')\n",
        "  return clients\n",
        "\n",
        "# Estruturas de Vizinhança\n",
        "def swap_clients_between_pas(solution):\n",
        "    # Troca de Clientes entre PAs (Swap)\n",
        "    new_solution = solution.copy()  # Criar uma cópia da solução atual\n",
        "\n",
        "    # Selecionar aleatoriamente dois PAs diferentes\n",
        "    pa_indices = np.random.choice(np.arange(num_pa_locations), size=2, replace=False)\n",
        "    pa1_index, pa2_index = pa_indices\n",
        "\n",
        "    # Selecionar aleatoriamente um cliente atribuído ao PA1 e outro ao PA2\n",
        "    client_indices_pa1 = np.where(solution['x'][pa1_index] == 1)[0]\n",
        "    client_indices_pa2 = np.where(solution['x'][pa2_index] == 1)[0]\n",
        "\n",
        "    if len(client_indices_pa1) > 0 and len(client_indices_pa2) > 0:\n",
        "        client_index_pa1 = np.random.choice(client_indices_pa1)\n",
        "        client_index_pa2 = np.random.choice(client_indices_pa2)\n",
        "\n",
        "        # Realizar a troca dos clientes entre os PAs\n",
        "        new_solution['x'][pa1_index, client_index_pa1] = 0\n",
        "        new_solution['x'][pa2_index, client_index_pa2] = 0\n",
        "        new_solution['x'][pa1_index, client_index_pa2] = 1\n",
        "        new_solution['x'][pa2_index, client_index_pa1] = 1\n",
        "\n",
        "    return new_solution\n",
        "\n",
        "def add_or_remove_pas(solution):\n",
        "    # Adição ou Remoção de PAs\n",
        "    new_solution = solution.copy()  # Criar uma cópia da solução atual\n",
        "\n",
        "    # Selecionar aleatoriamente um número de PAs a adicionar ou remover\n",
        "    num_pas_to_add_or_remove = np.random.randint(1, num_pa_locations + 1)\n",
        "\n",
        "    # Selecionar aleatoriamente quais PAs adicionar ou remover\n",
        "    pa_indices = np.random.choice(np.arange(num_pa_locations), size=num_pas_to_add_or_remove, replace=False)\n",
        "\n",
        "    # Ativar ou desativar os PAs selecionados\n",
        "    for pa_index in pa_indices:\n",
        "        new_solution['y'][pa_index] = 1 - new_solution['y'][pa_index]\n",
        "\n",
        "    return new_solution\n",
        "\n",
        "def shift_pa_positions(solution):\n",
        "    # Movimento dos PAs (Shift)\n",
        "    new_solution = solution.copy()  # Criar uma cópia da solução atual\n",
        "\n",
        "    # Gerar uma nova posição para cada PA\n",
        "    new_pa_coordinates = np.random.randint(0, 80, size=(num_pa_locations, 2)) * 5  # 80 é o tamanho do grid em metros\n",
        "\n",
        "    # Atualizar as coordenadas dos PAs na solução\n",
        "    new_solution['pa_coordinates'] = new_pa_coordinates\n",
        "\n",
        "    # Recalcular as distâncias entre os clientes e os PAs com as novas posições\n",
        "    for i in range(num_pa_locations):\n",
        "        pa_x, pa_y = new_pa_coordinates[i]\n",
        "        for j in range(num_clients):\n",
        "            client_x, client_y = solution['client_coordinates'][j]\n",
        "            distance = np.sqrt((pa_x - client_x) ** 2 + (pa_y - client_y) ** 2)\n",
        "            new_solution['client_pa_distances'][i, j] = distance\n",
        "\n",
        "    return new_solution\n",
        "\n",
        "def neighborhood_change(new_solution, solution, neighborhood):\n",
        "\n",
        "    # Atualizar a melhor solução encontrada e altera a vizinhança se necessário\n",
        "    if new_solution['penalty_fitness'] < solution['penalty_fitness']:\n",
        "        solution = new_solution.copy()\n",
        "        neighborhood  = 1\n",
        "    else:\n",
        "        neighborhood += 1\n",
        "\n",
        "    return solution, neighborhood\n",
        "\n",
        "def shake(solution, neighborhood):\n",
        "\n",
        "  match neighborhood:\n",
        "    case 1:\n",
        "      return swap_clients_between_pas(solution)\n",
        "    case 2:\n",
        "      return add_or_remove_pas(solution)\n",
        "    case 3:\n",
        "      return shift_pa_positions(solution)\n",
        "\n",
        "\n",
        "# Algoritmo para otimizar cada função objetivo individualmente\n",
        "def rvns_method(objective_function, constraints, construct_heuristc=False, max_iter=100, neighborhood_max = 4):\n",
        "\n",
        "    # Atribui os dados dos clientes\n",
        "    clients_data = get_clients()\n",
        "\n",
        "    # Gerar uma solução aleatória viável\n",
        "    solution = generate_solution(clients_data)\n",
        "    solution = objective_function(solution, constraints)\n",
        "\n",
        "    for _ in range(max_iter):\n",
        "\n",
        "      neighborhood = 1\n",
        "\n",
        "      while neighborhood <= neighborhood_max:\n",
        "\n",
        "        # Gerar uma pertubação para comparação com a vizinhança e busca local\n",
        "        new_solution = shake(solution, neighborhood)\n",
        "\n",
        "        # Avaliar a solução\n",
        "        new_solution = objective_function(solution, constraints)\n",
        "\n",
        "        # Compara a solução nova com a atual com as soluções da vizinhança\n",
        "        solution, neighborhood = neighborhood_change(new_solution, solution, neighborhood)\n",
        "\n",
        "    return solution\n",
        "\n",
        "def penalty_method(solution, constraints):\n",
        "\n",
        "  # Aplicar as penalidades para as violações de restrições\n",
        "  penalty = 0\n",
        "  for constraint in constraints:\n",
        "      if not constraint(solution):\n",
        "          penalty += 1\n",
        "\n",
        "  return penalty\n",
        "\n",
        "# Parâmetros específicos do problema\n",
        "pa_capacity = 54  # Capacidade de cada PA\n",
        "pa_coverage = 85  # Raio de cobertura de cada PA\n",
        "pa_exposure = 1  # Exposição nominal do PA\n",
        "exposure_coefficient = 1  # Coeficiente de exposição\n",
        "\n",
        "constrains = [constraint_min_clients_served, constraint_capacity, constraint_coverage, constraint_exposure, constraint_unique_assignment, constraint_max_pas, constraint_binary_variables, constraint_pa_coordinates]\n"
      ]
    },
    {
      "cell_type": "markdown",
      "metadata": {
        "id": "xVVcRS4C0EUP"
      },
      "source": [
        "### Resultados da função objetivo $f_1$"
      ]
    },
    {
      "cell_type": "code",
      "execution_count": 2,
      "metadata": {
        "colab": {
          "base_uri": "https://localhost:8080/"
        },
        "id": "6SiE3OlGRoST",
        "outputId": "23a5c097-b688-4e65-ec05-7956d9b21371"
      },
      "outputs": [
        {
          "name": "stdout",
          "output_type": "stream",
          "text": [
            "\n",
            "--- MELHOR SOLUÇÃO de f1 ENCONTRADA ---\n",
            "\n",
            "O valor MIN encontrado foi: 14.0\n",
            "O valor STD encontrado foi: 2.154065922853802\n",
            "O valor MAX encontrado foi: 20.0\n",
            "[14.0, 16.0, 19.0, 18.0, 20.0]\n"
          ]
        }
      ],
      "source": [
        "# Chamar o algoritmo de Penalidade para otimizar cada função objetivo individualmente\n",
        "# Para a função objetivo 1\n",
        "result = []\n",
        "for _ in range(5):\n",
        "  best_solution = rvns_method(objective_function_1, constrains)\n",
        "\n",
        "  result.append(best_solution['penalty_fitness'])\n",
        "\n",
        "print('\\n--- MELHOR SOLUÇÃO de f1 ENCONTRADA ---\\n')\n",
        "print('O valor MIN encontrado foi:', np.min(result))\n",
        "print('O valor STD encontrado foi:', np.std(result))\n",
        "print('O valor MAX encontrado foi:', np.max(result))\n",
        "\n",
        "print(result)\n",
        "\n",
        "\n"
      ]
    },
    {
      "cell_type": "code",
      "execution_count": 3,
      "metadata": {
        "id": "GhGGG19bV5ED"
      },
      "outputs": [
        {
          "name": "stdout",
          "output_type": "stream",
          "text": [
            "Melhor solução para a função objetivo 1: [[0. 0. 0. ... 0. 0. 0.]\n",
            " [0. 0. 0. ... 0. 0. 0.]\n",
            " [0. 0. 0. ... 0. 0. 0.]\n",
            " ...\n",
            " [0. 0. 0. ... 1. 1. 0.]\n",
            " [0. 1. 0. ... 0. 0. 0.]\n",
            " [0. 0. 1. ... 0. 0. 0.]]\n",
            "Melhor solução para a função objetivo 2: [[0. 0. 0. ... 0. 0. 0.]\n",
            " [0. 0. 0. ... 0. 1. 0.]\n",
            " [0. 0. 0. ... 0. 0. 0.]\n",
            " ...\n",
            " [0. 0. 0. ... 0. 0. 0.]\n",
            " [0. 0. 0. ... 0. 0. 0.]\n",
            " [0. 0. 0. ... 0. 0. 0.]]\n"
          ]
        }
      ],
      "source": [
        "# Para a função objetivo 2\n",
        "best_solution_f2= rvns_method(objective_function_2, constrains)\n",
        "\n",
        "# Imprimir ou retornar as melhores soluções encontradas\n",
        "#print(\"Melhor solução para a função objetivo 1:\", score_f1)\n",
        "#print(\"Melhor solução para a função objetivo 2:\", score_f2)\n",
        "\n",
        "\n",
        "# Imprimir ou retornar as melhores soluções encontradas\n",
        "print(\"Melhor solução para a função objetivo 1:\", best_solution['x'])\n",
        "print(\"Melhor solução para a função objetivo 2:\", best_solution_f2['x'])\n"
      ]
    },
    {
      "cell_type": "code",
      "execution_count": 4,
      "metadata": {
        "colab": {
          "base_uri": "https://localhost:8080/",
          "height": 1000
        },
        "id": "iIR7KzkqWDLP",
        "outputId": "7a08e598-41dc-4e5b-a295-0c896f9194dc"
      },
      "outputs": [
        {
          "name": "stdout",
          "output_type": "stream",
          "text": [
            "[(206, 15, 136), (213, 34, 167), (208, 213, 130), (249, 33, 173), (212, 223, 61), (180, 5, 161), (189, 2, 211), (201, 205, 27), (187, 174, 214), (182, 24, 25), (194, 103, 149), (246, 49, 40), (206, 186, 118), (182, 196, 69), (210, 59, 11), (252, 159, 111), (228, 92, 67), (220, 192, 28), (189, 45, 194), (231, 178, 185), (205, 223, 213), (208, 107, 49), (185, 2, 125), (197, 195, 200), (218, 232, 187), (188, 55, 7), (231, 240, 220), (239, 224, 19), (254, 106, 72), (206, 39, 45)]\n"
          ]
        },
        {
          "name": "stderr",
          "output_type": "stream",
          "text": [
            "C:\\Users\\sangu\\AppData\\Local\\Temp\\ipykernel_6880\\1545828363.py:28: UserWarning: *c* argument looks like a single numeric RGB or RGBA sequence, which should be avoided as value-mapping will have precedence in case its length matches with *x* & *y*.  Please use the *color* keyword-argument or provide a 2D array with a single row if you intend to specify the same RGB or RGBA value for all points.\n",
            "  plt.scatter(pa_coordinates[:, 0], pa_coordinates[:, 1], marker='s', c=cores_acesso[i], label='Pontos de Acesso')\n"
          ]
        },
        {
          "ename": "ValueError",
          "evalue": "'c' argument has 3 elements, which is inconsistent with 'x' and 'y' with size 30.",
          "output_type": "error",
          "traceback": [
            "\u001b[1;31m---------------------------------------------------------------------------\u001b[0m",
            "\u001b[1;31mValueError\u001b[0m                                Traceback (most recent call last)",
            "File \u001b[1;32mc:\\Users\\sangu\\anaconda3\\Lib\\site-packages\\matplotlib\\axes\\_axes.py:4439\u001b[0m, in \u001b[0;36mAxes._parse_scatter_color_args\u001b[1;34m(c, edgecolors, kwargs, xsize, get_next_color_func)\u001b[0m\n\u001b[0;32m   4438\u001b[0m \u001b[38;5;28;01mtry\u001b[39;00m:  \u001b[38;5;66;03m# Is 'c' acceptable as PathCollection facecolors?\u001b[39;00m\n\u001b[1;32m-> 4439\u001b[0m     colors \u001b[38;5;241m=\u001b[39m mcolors\u001b[38;5;241m.\u001b[39mto_rgba_array(c)\n\u001b[0;32m   4440\u001b[0m \u001b[38;5;28;01mexcept\u001b[39;00m (\u001b[38;5;167;01mTypeError\u001b[39;00m, \u001b[38;5;167;01mValueError\u001b[39;00m) \u001b[38;5;28;01mas\u001b[39;00m err:\n",
            "File \u001b[1;32mc:\\Users\\sangu\\anaconda3\\Lib\\site-packages\\matplotlib\\colors.py:487\u001b[0m, in \u001b[0;36mto_rgba_array\u001b[1;34m(c, alpha)\u001b[0m\n\u001b[0;32m    486\u001b[0m \u001b[38;5;28;01melse\u001b[39;00m:\n\u001b[1;32m--> 487\u001b[0m     rgba \u001b[38;5;241m=\u001b[39m np\u001b[38;5;241m.\u001b[39marray([to_rgba(cc) \u001b[38;5;28;01mfor\u001b[39;00m cc \u001b[38;5;129;01min\u001b[39;00m c])\n\u001b[0;32m    489\u001b[0m \u001b[38;5;28;01mif\u001b[39;00m alpha \u001b[38;5;129;01mis\u001b[39;00m \u001b[38;5;129;01mnot\u001b[39;00m \u001b[38;5;28;01mNone\u001b[39;00m:\n",
            "File \u001b[1;32mc:\\Users\\sangu\\anaconda3\\Lib\\site-packages\\matplotlib\\colors.py:487\u001b[0m, in \u001b[0;36m<listcomp>\u001b[1;34m(.0)\u001b[0m\n\u001b[0;32m    486\u001b[0m \u001b[38;5;28;01melse\u001b[39;00m:\n\u001b[1;32m--> 487\u001b[0m     rgba \u001b[38;5;241m=\u001b[39m np\u001b[38;5;241m.\u001b[39marray([to_rgba(cc) \u001b[38;5;28;01mfor\u001b[39;00m cc \u001b[38;5;129;01min\u001b[39;00m c])\n\u001b[0;32m    489\u001b[0m \u001b[38;5;28;01mif\u001b[39;00m alpha \u001b[38;5;129;01mis\u001b[39;00m \u001b[38;5;129;01mnot\u001b[39;00m \u001b[38;5;28;01mNone\u001b[39;00m:\n",
            "File \u001b[1;32mc:\\Users\\sangu\\anaconda3\\Lib\\site-packages\\matplotlib\\colors.py:299\u001b[0m, in \u001b[0;36mto_rgba\u001b[1;34m(c, alpha)\u001b[0m\n\u001b[0;32m    298\u001b[0m \u001b[38;5;28;01mif\u001b[39;00m rgba \u001b[38;5;129;01mis\u001b[39;00m \u001b[38;5;28;01mNone\u001b[39;00m:  \u001b[38;5;66;03m# Suppress exception chaining of cache lookup failure.\u001b[39;00m\n\u001b[1;32m--> 299\u001b[0m     rgba \u001b[38;5;241m=\u001b[39m _to_rgba_no_colorcycle(c, alpha)\n\u001b[0;32m    300\u001b[0m     \u001b[38;5;28;01mtry\u001b[39;00m:\n",
            "File \u001b[1;32mc:\\Users\\sangu\\anaconda3\\Lib\\site-packages\\matplotlib\\colors.py:381\u001b[0m, in \u001b[0;36m_to_rgba_no_colorcycle\u001b[1;34m(c, alpha)\u001b[0m\n\u001b[0;32m    380\u001b[0m \u001b[38;5;28;01mif\u001b[39;00m \u001b[38;5;129;01mnot\u001b[39;00m np\u001b[38;5;241m.\u001b[39miterable(c):\n\u001b[1;32m--> 381\u001b[0m     \u001b[38;5;28;01mraise\u001b[39;00m \u001b[38;5;167;01mValueError\u001b[39;00m(\u001b[38;5;124mf\u001b[39m\u001b[38;5;124m\"\u001b[39m\u001b[38;5;124mInvalid RGBA argument: \u001b[39m\u001b[38;5;132;01m{\u001b[39;00morig_c\u001b[38;5;132;01m!r}\u001b[39;00m\u001b[38;5;124m\"\u001b[39m)\n\u001b[0;32m    382\u001b[0m \u001b[38;5;28;01mif\u001b[39;00m \u001b[38;5;28mlen\u001b[39m(c) \u001b[38;5;129;01mnot\u001b[39;00m \u001b[38;5;129;01min\u001b[39;00m [\u001b[38;5;241m3\u001b[39m, \u001b[38;5;241m4\u001b[39m]:\n",
            "\u001b[1;31mValueError\u001b[0m: Invalid RGBA argument: 206.0",
            "\nThe above exception was the direct cause of the following exception:\n",
            "\u001b[1;31mValueError\u001b[0m                                Traceback (most recent call last)",
            "Cell \u001b[1;32mIn[4], line 50\u001b[0m\n\u001b[0;32m     47\u001b[0m client_coordinates \u001b[38;5;241m=\u001b[39m clients_data[:, :\u001b[38;5;241m2\u001b[39m]\n\u001b[0;32m     49\u001b[0m \u001b[38;5;66;03m#Plotar a solução da função objetivo 1\u001b[39;00m\n\u001b[1;32m---> 50\u001b[0m plot_solution(best_solution, client_coordinates)\n",
            "Cell \u001b[1;32mIn[4], line 28\u001b[0m, in \u001b[0;36mplot_solution\u001b[1;34m(solution, client_coordinates)\u001b[0m\n\u001b[0;32m     26\u001b[0m pa_coordinates \u001b[38;5;241m=\u001b[39m solution[\u001b[38;5;124m'\u001b[39m\u001b[38;5;124mpa_coordinates\u001b[39m\u001b[38;5;124m'\u001b[39m]\n\u001b[0;32m     27\u001b[0m \u001b[38;5;28;01mfor\u001b[39;00m i \u001b[38;5;129;01min\u001b[39;00m \u001b[38;5;28mrange\u001b[39m(num_pa_locations):\n\u001b[1;32m---> 28\u001b[0m   plt\u001b[38;5;241m.\u001b[39mscatter(pa_coordinates[:, \u001b[38;5;241m0\u001b[39m], pa_coordinates[:, \u001b[38;5;241m1\u001b[39m], marker\u001b[38;5;241m=\u001b[39m\u001b[38;5;124m'\u001b[39m\u001b[38;5;124ms\u001b[39m\u001b[38;5;124m'\u001b[39m, c\u001b[38;5;241m=\u001b[39mcores_acesso[i], label\u001b[38;5;241m=\u001b[39m\u001b[38;5;124m'\u001b[39m\u001b[38;5;124mPontos de Acesso\u001b[39m\u001b[38;5;124m'\u001b[39m)\n\u001b[0;32m     30\u001b[0m   \u001b[38;5;66;03m# Plotar os clientes\u001b[39;00m\n\u001b[0;32m     31\u001b[0m   \u001b[38;5;28;01mfor\u001b[39;00m j \u001b[38;5;129;01min\u001b[39;00m \u001b[38;5;28mrange\u001b[39m(num_clients):\n",
            "File \u001b[1;32mc:\\Users\\sangu\\anaconda3\\Lib\\site-packages\\matplotlib\\pyplot.py:2862\u001b[0m, in \u001b[0;36mscatter\u001b[1;34m(x, y, s, c, marker, cmap, norm, vmin, vmax, alpha, linewidths, edgecolors, plotnonfinite, data, **kwargs)\u001b[0m\n\u001b[0;32m   2857\u001b[0m \u001b[38;5;129m@_copy_docstring_and_deprecators\u001b[39m(Axes\u001b[38;5;241m.\u001b[39mscatter)\n\u001b[0;32m   2858\u001b[0m \u001b[38;5;28;01mdef\u001b[39;00m \u001b[38;5;21mscatter\u001b[39m(\n\u001b[0;32m   2859\u001b[0m         x, y, s\u001b[38;5;241m=\u001b[39m\u001b[38;5;28;01mNone\u001b[39;00m, c\u001b[38;5;241m=\u001b[39m\u001b[38;5;28;01mNone\u001b[39;00m, marker\u001b[38;5;241m=\u001b[39m\u001b[38;5;28;01mNone\u001b[39;00m, cmap\u001b[38;5;241m=\u001b[39m\u001b[38;5;28;01mNone\u001b[39;00m, norm\u001b[38;5;241m=\u001b[39m\u001b[38;5;28;01mNone\u001b[39;00m,\n\u001b[0;32m   2860\u001b[0m         vmin\u001b[38;5;241m=\u001b[39m\u001b[38;5;28;01mNone\u001b[39;00m, vmax\u001b[38;5;241m=\u001b[39m\u001b[38;5;28;01mNone\u001b[39;00m, alpha\u001b[38;5;241m=\u001b[39m\u001b[38;5;28;01mNone\u001b[39;00m, linewidths\u001b[38;5;241m=\u001b[39m\u001b[38;5;28;01mNone\u001b[39;00m, \u001b[38;5;241m*\u001b[39m,\n\u001b[0;32m   2861\u001b[0m         edgecolors\u001b[38;5;241m=\u001b[39m\u001b[38;5;28;01mNone\u001b[39;00m, plotnonfinite\u001b[38;5;241m=\u001b[39m\u001b[38;5;28;01mFalse\u001b[39;00m, data\u001b[38;5;241m=\u001b[39m\u001b[38;5;28;01mNone\u001b[39;00m, \u001b[38;5;241m*\u001b[39m\u001b[38;5;241m*\u001b[39mkwargs):\n\u001b[1;32m-> 2862\u001b[0m     __ret \u001b[38;5;241m=\u001b[39m gca()\u001b[38;5;241m.\u001b[39mscatter(\n\u001b[0;32m   2863\u001b[0m         x, y, s\u001b[38;5;241m=\u001b[39ms, c\u001b[38;5;241m=\u001b[39mc, marker\u001b[38;5;241m=\u001b[39mmarker, cmap\u001b[38;5;241m=\u001b[39mcmap, norm\u001b[38;5;241m=\u001b[39mnorm,\n\u001b[0;32m   2864\u001b[0m         vmin\u001b[38;5;241m=\u001b[39mvmin, vmax\u001b[38;5;241m=\u001b[39mvmax, alpha\u001b[38;5;241m=\u001b[39malpha, linewidths\u001b[38;5;241m=\u001b[39mlinewidths,\n\u001b[0;32m   2865\u001b[0m         edgecolors\u001b[38;5;241m=\u001b[39medgecolors, plotnonfinite\u001b[38;5;241m=\u001b[39mplotnonfinite,\n\u001b[0;32m   2866\u001b[0m         \u001b[38;5;241m*\u001b[39m\u001b[38;5;241m*\u001b[39m({\u001b[38;5;124m\"\u001b[39m\u001b[38;5;124mdata\u001b[39m\u001b[38;5;124m\"\u001b[39m: data} \u001b[38;5;28;01mif\u001b[39;00m data \u001b[38;5;129;01mis\u001b[39;00m \u001b[38;5;129;01mnot\u001b[39;00m \u001b[38;5;28;01mNone\u001b[39;00m \u001b[38;5;28;01melse\u001b[39;00m {}), \u001b[38;5;241m*\u001b[39m\u001b[38;5;241m*\u001b[39mkwargs)\n\u001b[0;32m   2867\u001b[0m     sci(__ret)\n\u001b[0;32m   2868\u001b[0m     \u001b[38;5;28;01mreturn\u001b[39;00m __ret\n",
            "File \u001b[1;32mc:\\Users\\sangu\\anaconda3\\Lib\\site-packages\\matplotlib\\__init__.py:1442\u001b[0m, in \u001b[0;36m_preprocess_data.<locals>.inner\u001b[1;34m(ax, data, *args, **kwargs)\u001b[0m\n\u001b[0;32m   1439\u001b[0m \u001b[38;5;129m@functools\u001b[39m\u001b[38;5;241m.\u001b[39mwraps(func)\n\u001b[0;32m   1440\u001b[0m \u001b[38;5;28;01mdef\u001b[39;00m \u001b[38;5;21minner\u001b[39m(ax, \u001b[38;5;241m*\u001b[39margs, data\u001b[38;5;241m=\u001b[39m\u001b[38;5;28;01mNone\u001b[39;00m, \u001b[38;5;241m*\u001b[39m\u001b[38;5;241m*\u001b[39mkwargs):\n\u001b[0;32m   1441\u001b[0m     \u001b[38;5;28;01mif\u001b[39;00m data \u001b[38;5;129;01mis\u001b[39;00m \u001b[38;5;28;01mNone\u001b[39;00m:\n\u001b[1;32m-> 1442\u001b[0m         \u001b[38;5;28;01mreturn\u001b[39;00m func(ax, \u001b[38;5;241m*\u001b[39m\u001b[38;5;28mmap\u001b[39m(sanitize_sequence, args), \u001b[38;5;241m*\u001b[39m\u001b[38;5;241m*\u001b[39mkwargs)\n\u001b[0;32m   1444\u001b[0m     bound \u001b[38;5;241m=\u001b[39m new_sig\u001b[38;5;241m.\u001b[39mbind(ax, \u001b[38;5;241m*\u001b[39margs, \u001b[38;5;241m*\u001b[39m\u001b[38;5;241m*\u001b[39mkwargs)\n\u001b[0;32m   1445\u001b[0m     auto_label \u001b[38;5;241m=\u001b[39m (bound\u001b[38;5;241m.\u001b[39marguments\u001b[38;5;241m.\u001b[39mget(label_namer)\n\u001b[0;32m   1446\u001b[0m                   \u001b[38;5;129;01mor\u001b[39;00m bound\u001b[38;5;241m.\u001b[39mkwargs\u001b[38;5;241m.\u001b[39mget(label_namer))\n",
            "File \u001b[1;32mc:\\Users\\sangu\\anaconda3\\Lib\\site-packages\\matplotlib\\axes\\_axes.py:4602\u001b[0m, in \u001b[0;36mAxes.scatter\u001b[1;34m(self, x, y, s, c, marker, cmap, norm, vmin, vmax, alpha, linewidths, edgecolors, plotnonfinite, **kwargs)\u001b[0m\n\u001b[0;32m   4599\u001b[0m \u001b[38;5;28;01mif\u001b[39;00m edgecolors \u001b[38;5;129;01mis\u001b[39;00m \u001b[38;5;28;01mNone\u001b[39;00m:\n\u001b[0;32m   4600\u001b[0m     orig_edgecolor \u001b[38;5;241m=\u001b[39m kwargs\u001b[38;5;241m.\u001b[39mget(\u001b[38;5;124m'\u001b[39m\u001b[38;5;124medgecolor\u001b[39m\u001b[38;5;124m'\u001b[39m, \u001b[38;5;28;01mNone\u001b[39;00m)\n\u001b[0;32m   4601\u001b[0m c, colors, edgecolors \u001b[38;5;241m=\u001b[39m \\\n\u001b[1;32m-> 4602\u001b[0m     \u001b[38;5;28mself\u001b[39m\u001b[38;5;241m.\u001b[39m_parse_scatter_color_args(\n\u001b[0;32m   4603\u001b[0m         c, edgecolors, kwargs, x\u001b[38;5;241m.\u001b[39msize,\n\u001b[0;32m   4604\u001b[0m         get_next_color_func\u001b[38;5;241m=\u001b[39m\u001b[38;5;28mself\u001b[39m\u001b[38;5;241m.\u001b[39m_get_patches_for_fill\u001b[38;5;241m.\u001b[39mget_next_color)\n\u001b[0;32m   4606\u001b[0m \u001b[38;5;28;01mif\u001b[39;00m plotnonfinite \u001b[38;5;129;01mand\u001b[39;00m colors \u001b[38;5;129;01mis\u001b[39;00m \u001b[38;5;28;01mNone\u001b[39;00m:\n\u001b[0;32m   4607\u001b[0m     c \u001b[38;5;241m=\u001b[39m np\u001b[38;5;241m.\u001b[39mma\u001b[38;5;241m.\u001b[39mmasked_invalid(c)\n",
            "File \u001b[1;32mc:\\Users\\sangu\\anaconda3\\Lib\\site-packages\\matplotlib\\axes\\_axes.py:4445\u001b[0m, in \u001b[0;36mAxes._parse_scatter_color_args\u001b[1;34m(c, edgecolors, kwargs, xsize, get_next_color_func)\u001b[0m\n\u001b[0;32m   4443\u001b[0m \u001b[38;5;28;01melse\u001b[39;00m:\n\u001b[0;32m   4444\u001b[0m     \u001b[38;5;28;01mif\u001b[39;00m \u001b[38;5;129;01mnot\u001b[39;00m valid_shape:\n\u001b[1;32m-> 4445\u001b[0m         \u001b[38;5;28;01mraise\u001b[39;00m invalid_shape_exception(c\u001b[38;5;241m.\u001b[39msize, xsize) \u001b[38;5;28;01mfrom\u001b[39;00m \u001b[38;5;21;01merr\u001b[39;00m\n\u001b[0;32m   4446\u001b[0m     \u001b[38;5;66;03m# Both the mapping *and* the RGBA conversion failed: pretty\u001b[39;00m\n\u001b[0;32m   4447\u001b[0m     \u001b[38;5;66;03m# severe failure => one may appreciate a verbose feedback.\u001b[39;00m\n\u001b[0;32m   4448\u001b[0m     \u001b[38;5;28;01mraise\u001b[39;00m \u001b[38;5;167;01mValueError\u001b[39;00m(\n\u001b[0;32m   4449\u001b[0m         \u001b[38;5;124mf\u001b[39m\u001b[38;5;124m\"\u001b[39m\u001b[38;5;124m'\u001b[39m\u001b[38;5;124mc\u001b[39m\u001b[38;5;124m'\u001b[39m\u001b[38;5;124m argument must be a color, a sequence of colors, \u001b[39m\u001b[38;5;124m\"\u001b[39m\n\u001b[0;32m   4450\u001b[0m         \u001b[38;5;124mf\u001b[39m\u001b[38;5;124m\"\u001b[39m\u001b[38;5;124mor a sequence of numbers, not \u001b[39m\u001b[38;5;132;01m{\u001b[39;00mc\u001b[38;5;132;01m!r}\u001b[39;00m\u001b[38;5;124m\"\u001b[39m) \u001b[38;5;28;01mfrom\u001b[39;00m \u001b[38;5;21;01merr\u001b[39;00m\n",
            "\u001b[1;31mValueError\u001b[0m: 'c' argument has 3 elements, which is inconsistent with 'x' and 'y' with size 30."
          ]
        },
        {
          "data": {
            "image/png": "[encoded data removed]",
            "text/plain": [
              "<Figure size 800x800 with 1 Axes>"
            ]
          },
          "metadata": {},
          "output_type": "display_data"
        }
      ],
      "source": [
        "#Graficos para visualização das soluções\n",
        "import matplotlib.pyplot as plt\n",
        "import random\n",
        "\n",
        "def cor_vibrante():\n",
        "    # Gerar valores RGB mais vibrantes\n",
        "    r = random.randint(180, 255)  # Valor de vermelho entre 180 e 255\n",
        "    g = random.randint(0, 255)    # Valor de verde entre 0 e 255\n",
        "    b = random.randint(0, 255)    # Valor de azul entre 0 e 255\n",
        "    return (r, g, b)\n",
        "\n",
        "#Função para plotar os PAs e os clientes em um grid\n",
        "def plot_solution(solution, client_coordinates):\n",
        "    # Criar uma nova figura\n",
        "    plt.figure(figsize=(8, 8))\n",
        "\n",
        "    # Plotar o grid\n",
        "    plt.grid(True, linestyle='--', color='gray', alpha=0.5)\n",
        "\n",
        "\n",
        "\n",
        "    # Definindo as cores RGB para os 30 pontos de acesso\n",
        "    cores_acesso = [cor_vibrante() for _ in range(30)]\n",
        "    print(cores_acesso)\n",
        "    # Plotar os PAs\n",
        "    pa_coordinates = solution['pa_coordinates']\n",
        "    for i in range(num_pa_locations):\n",
        "      plt.scatter(pa_coordinates[:, 0], pa_coordinates[:, 1], marker='s', color=cores_acesso[i], label='Pontos de Acesso')\n",
        "\n",
        "      # Plotar os clientes\n",
        "      for j in range(num_clients):\n",
        "        plt.scatter(client_coordinates[:, 0], client_coordinates[:, 1], marker='o', color=cores_acesso[i], label='Clientes')\n",
        "\n",
        "    # Adicionar legendas e título\n",
        "    plt.xlabel('Coordenada X')\n",
        "    plt.ylabel('Coordenada Y')\n",
        "    plt.title('Pontos de Acesso e Clientes')\n",
        "    #plt.legend()\n",
        "\n",
        "    # Mostrar o gráfico\n",
        "    plt.show()\n",
        "\n",
        "#Carrega os dados dos clientes do arquivo CSV\n",
        "clients_data = get_clients()\n",
        "\n",
        "#Extrai as coordenadas dos clientes do array\n",
        "client_coordinates = clients_data[:, :2]\n",
        "\n",
        "#Plotar a solução da função objetivo 1\n",
        "plot_solution(best_solution, client_coordinates)\n",
        "\n",
        "#Plotar a solução da função objetivo 2\n",
        "#plot_solution(best_solution_f2, client_coordinates)"
      ]
    },
    {
      "cell_type": "markdown",
      "metadata": {
        "id": "m0-WbRKlE5jg"
      },
      "source": [
        "### Resultados da função objetivo $f_2$"
      ]
    },
    {
      "cell_type": "code",
      "execution_count": null,
      "metadata": {
        "colab": {
          "base_uri": "https://localhost:8080/",
          "height": 487
        },
        "id": "v6IRQiyhFCHd",
        "outputId": "fa36867b-57e1-4075-97cc-1cc9c1ced02a"
      },
      "outputs": [
        {
          "data": {
            "image/png": "[encoded data removed]",
            "text/plain": [
              "<Figure size 640x480 with 2 Axes>"
            ]
          },
          "metadata": {},
          "output_type": "display_data"
        }
      ],
      "source": [
        "import matplotlib.pyplot as plt\n",
        "\n",
        "# Gere dados para dois gráficos\n",
        "x1 = [1, 2, 3, 4, 5]\n",
        "y1 = [2, 4, 5, 4, 3]\n",
        "\n",
        "x2 = [6, 7, 8, 9, 10]\n",
        "y2 = [1, 3, 2, 5, 4]\n",
        "\n",
        "# Crie um layout de 1 linha e 2 colunas\n",
        "fig, axes = plt.subplots(1, 2)\n",
        "\n",
        "# Plota o gráfico 1 no subplot 1\n",
        "ax1 = axes[0]  # Acesse o subplot 1 usando o índice\n",
        "ax1.plot(x1, y1, label='Gráfico 1')\n",
        "ax1.set_title('Título do Gráfico 1')\n",
        "ax1.set_xlabel('X')\n",
        "ax1.set_ylabel('Y')\n",
        "ax1.legend()\n",
        "\n",
        "# Plota o gráfico 2 no subplot 2\n",
        "ax2 = axes[1]  # Acesse o subplot 2 usando o índice\n",
        "ax2.plot(x2, y2, label='Gráfico 2')\n",
        "ax2.set_title('Título do Gráfico 2')\n",
        "ax2.set_xlabel('X')\n",
        "ax2.set_ylabel('Y')\n",
        "ax2.legend()\n",
        "\n",
        "# Ajusta o layout para evitar sobreposição\n",
        "plt.tight_layout()\n",
        "\n",
        "# Exibe o gráfico\n",
        "plt.show()\n"
      ]
    }
  ],
  "metadata": {
    "colab": {
      "collapsed_sections": [
        "rDkKglIFupH0"
      ],
      "provenance": []
    },
    "kernelspec": {
      "display_name": "Python 3",
      "name": "python3"
    },
    "language_info": {
      "codemirror_mode": {
        "name": "ipython",
        "version": 3
      },
      "file_extension": ".py",
      "mimetype": "text/x-python",
      "name": "python",
      "nbconvert_exporter": "python",
      "pygments_lexer": "ipython3",
      "version": "3.11.4"
    }
  },
  "nbformat": 4,
  "nbformat_minor": 0
}
